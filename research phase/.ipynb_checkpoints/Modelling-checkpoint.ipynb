{
 "cells": [
  {
   "cell_type": "code",
   "execution_count": 1,
   "id": "b272332c",
   "metadata": {},
   "outputs": [],
   "source": [
    "import pandas as pd\n",
    "\n",
    "from sklearn.model_selection import train_test_split\n",
    "\n",
    "# Feature engineering\n",
    "from sklearn.impute  import SimpleImputer\n",
    "from feature_engine.encoding import OneHotEncoder\n",
    "from sklearn.preprocessing import MinMaxScaler\n",
    "\n",
    "# sampling\n",
    "from imblearn.under_sampling import TomekLinks \n",
    "from imblearn.combine import SMOTETomek\n",
    "\n",
    "#Modelling\n",
    "from xgboost import XGBClassifier\n",
    "from sklearn.metrics import classification_report,confusion_matrix\n",
    "\n",
    "#from imblearn.ensemble import BalancedRandomForestClassifier"
   ]
  },
  {
   "cell_type": "markdown",
   "id": "5e7b9c63",
   "metadata": {},
   "source": [
    "## Common Functions"
   ]
  },
  {
   "cell_type": "code",
   "execution_count": 2,
   "id": "74809611",
   "metadata": {},
   "outputs": [],
   "source": [
    "def calc_sum_capital_paid_account_0_24m(data):\n",
    "    # add ne variable (sm_capital_paid_account_0_24m)the data\n",
    "    # sm_capital_paid_account_0_24m = capital_paid_account_0_12m + m_capital_paid_account_12_24m\n",
    "    data['sum_capital_paid_account_0_24m'] = data.apply(lambda row : row['sum_capital_paid_account_0_12m'] + row['sum_capital_paid_account_12_24m'], axis=1)\n",
    "    return data"
   ]
  },
  {
   "cell_type": "code",
   "execution_count": 3,
   "id": "65f26197",
   "metadata": {},
   "outputs": [],
   "source": [
    "def calc_num_of_paid_inv_0_12m(data):\n",
    "    # add ne variable (num_of_paid_inv_0_12m)the data\n",
    "    # num_of_paid_inv_0_12m = num_active_inv / num_active_div_by_paid_inv_0_12m\n",
    "    data['num_of_paid_inv_0_12m'] = data.apply(lambda row: 0 if row['num_active_inv'] == 0 else row['num_active_inv'] / row['num_active_div_by_paid_inv_0_12m'], axis=1)\n",
    "    return data"
   ]
  },
  {
   "cell_type": "code",
   "execution_count": 4,
   "id": "b7811faa",
   "metadata": {},
   "outputs": [],
   "source": [
    "def calc_status_max_active_0_24(data):\n",
    "    # add ne variable (status_max_active_0_24)the data\n",
    "    # status_max_active_0_24 is the max(account_worst_status_0_3m, account_worst_status_12_24m, account_worst_status_3_6m, account_worst_status_6_12m)\n",
    "    data['status_max_active_0_24'] = data.apply(lambda row: max(row['account_worst_status_0_3m'], row['account_worst_status_12_24m'], row['account_worst_status_3_6m'], row['account_worst_status_6_12m']), axis=1)\n",
    "    return data"
   ]
  },
  {
   "cell_type": "code",
   "execution_count": null,
   "id": "afdcf6b9",
   "metadata": {},
   "outputs": [],
   "source": []
  },
  {
   "cell_type": "markdown",
   "id": "b0558940",
   "metadata": {},
   "source": [
    "## Load the Data"
   ]
  },
  {
   "cell_type": "code",
   "execution_count": 5,
   "id": "4efa1ffd",
   "metadata": {},
   "outputs": [
    {
     "data": {
      "text/html": [
       "<div>\n",
       "<style scoped>\n",
       "    .dataframe tbody tr th:only-of-type {\n",
       "        vertical-align: middle;\n",
       "    }\n",
       "\n",
       "    .dataframe tbody tr th {\n",
       "        vertical-align: top;\n",
       "    }\n",
       "\n",
       "    .dataframe thead th {\n",
       "        text-align: right;\n",
       "    }\n",
       "</style>\n",
       "<table border=\"1\" class=\"dataframe\">\n",
       "  <thead>\n",
       "    <tr style=\"text-align: right;\">\n",
       "      <th></th>\n",
       "      <th>uuid</th>\n",
       "      <th>default</th>\n",
       "      <th>account_amount_added_12_24m</th>\n",
       "      <th>account_days_in_dc_12_24m</th>\n",
       "      <th>account_days_in_rem_12_24m</th>\n",
       "      <th>account_days_in_term_12_24m</th>\n",
       "      <th>account_incoming_debt_vs_paid_0_24m</th>\n",
       "      <th>account_status</th>\n",
       "      <th>account_worst_status_0_3m</th>\n",
       "      <th>account_worst_status_12_24m</th>\n",
       "      <th>...</th>\n",
       "      <th>status_3rd_last_archived_0_24m</th>\n",
       "      <th>status_max_archived_0_6_months</th>\n",
       "      <th>status_max_archived_0_12_months</th>\n",
       "      <th>status_max_archived_0_24_months</th>\n",
       "      <th>recovery_debt</th>\n",
       "      <th>sum_capital_paid_account_0_12m</th>\n",
       "      <th>sum_capital_paid_account_12_24m</th>\n",
       "      <th>sum_paid_inv_0_12m</th>\n",
       "      <th>time_hours</th>\n",
       "      <th>worst_status_active_inv</th>\n",
       "    </tr>\n",
       "  </thead>\n",
       "  <tbody>\n",
       "    <tr>\n",
       "      <th>0</th>\n",
       "      <td>63f69b2c-8b1c-4740-b78d-52ed9a4515ac</td>\n",
       "      <td>0.0</td>\n",
       "      <td>0</td>\n",
       "      <td>0.0</td>\n",
       "      <td>0.0</td>\n",
       "      <td>0.0</td>\n",
       "      <td>0.0</td>\n",
       "      <td>1.0</td>\n",
       "      <td>1.0</td>\n",
       "      <td>NaN</td>\n",
       "      <td>...</td>\n",
       "      <td>1</td>\n",
       "      <td>1</td>\n",
       "      <td>1</td>\n",
       "      <td>1</td>\n",
       "      <td>0</td>\n",
       "      <td>0</td>\n",
       "      <td>0</td>\n",
       "      <td>178839</td>\n",
       "      <td>9.653333</td>\n",
       "      <td>1.0</td>\n",
       "    </tr>\n",
       "    <tr>\n",
       "      <th>1</th>\n",
       "      <td>0e961183-8c15-4470-9a5e-07a1bd207661</td>\n",
       "      <td>0.0</td>\n",
       "      <td>0</td>\n",
       "      <td>0.0</td>\n",
       "      <td>0.0</td>\n",
       "      <td>0.0</td>\n",
       "      <td>NaN</td>\n",
       "      <td>1.0</td>\n",
       "      <td>1.0</td>\n",
       "      <td>1.0</td>\n",
       "      <td>...</td>\n",
       "      <td>1</td>\n",
       "      <td>1</td>\n",
       "      <td>2</td>\n",
       "      <td>2</td>\n",
       "      <td>0</td>\n",
       "      <td>0</td>\n",
       "      <td>0</td>\n",
       "      <td>49014</td>\n",
       "      <td>13.181389</td>\n",
       "      <td>NaN</td>\n",
       "    </tr>\n",
       "    <tr>\n",
       "      <th>2</th>\n",
       "      <td>d8edaae6-4368-44e0-941e-8328f203e64e</td>\n",
       "      <td>0.0</td>\n",
       "      <td>0</td>\n",
       "      <td>0.0</td>\n",
       "      <td>0.0</td>\n",
       "      <td>0.0</td>\n",
       "      <td>NaN</td>\n",
       "      <td>NaN</td>\n",
       "      <td>NaN</td>\n",
       "      <td>NaN</td>\n",
       "      <td>...</td>\n",
       "      <td>1</td>\n",
       "      <td>1</td>\n",
       "      <td>2</td>\n",
       "      <td>2</td>\n",
       "      <td>0</td>\n",
       "      <td>0</td>\n",
       "      <td>0</td>\n",
       "      <td>124839</td>\n",
       "      <td>11.561944</td>\n",
       "      <td>1.0</td>\n",
       "    </tr>\n",
       "    <tr>\n",
       "      <th>3</th>\n",
       "      <td>0095dfb6-a886-4e2a-b056-15ef45fdb0ef</td>\n",
       "      <td>0.0</td>\n",
       "      <td>0</td>\n",
       "      <td>NaN</td>\n",
       "      <td>NaN</td>\n",
       "      <td>NaN</td>\n",
       "      <td>NaN</td>\n",
       "      <td>NaN</td>\n",
       "      <td>NaN</td>\n",
       "      <td>NaN</td>\n",
       "      <td>...</td>\n",
       "      <td>1</td>\n",
       "      <td>1</td>\n",
       "      <td>1</td>\n",
       "      <td>1</td>\n",
       "      <td>0</td>\n",
       "      <td>0</td>\n",
       "      <td>0</td>\n",
       "      <td>324676</td>\n",
       "      <td>15.751111</td>\n",
       "      <td>1.0</td>\n",
       "    </tr>\n",
       "    <tr>\n",
       "      <th>4</th>\n",
       "      <td>c8f8b835-5647-4506-bf15-49105d8af30b</td>\n",
       "      <td>0.0</td>\n",
       "      <td>0</td>\n",
       "      <td>0.0</td>\n",
       "      <td>0.0</td>\n",
       "      <td>0.0</td>\n",
       "      <td>NaN</td>\n",
       "      <td>NaN</td>\n",
       "      <td>NaN</td>\n",
       "      <td>NaN</td>\n",
       "      <td>...</td>\n",
       "      <td>0</td>\n",
       "      <td>1</td>\n",
       "      <td>1</td>\n",
       "      <td>1</td>\n",
       "      <td>0</td>\n",
       "      <td>0</td>\n",
       "      <td>0</td>\n",
       "      <td>7100</td>\n",
       "      <td>12.698611</td>\n",
       "      <td>NaN</td>\n",
       "    </tr>\n",
       "  </tbody>\n",
       "</table>\n",
       "<p>5 rows × 43 columns</p>\n",
       "</div>"
      ],
      "text/plain": [
       "                                   uuid  default  account_amount_added_12_24m  \\\n",
       "0  63f69b2c-8b1c-4740-b78d-52ed9a4515ac      0.0                            0   \n",
       "1  0e961183-8c15-4470-9a5e-07a1bd207661      0.0                            0   \n",
       "2  d8edaae6-4368-44e0-941e-8328f203e64e      0.0                            0   \n",
       "3  0095dfb6-a886-4e2a-b056-15ef45fdb0ef      0.0                            0   \n",
       "4  c8f8b835-5647-4506-bf15-49105d8af30b      0.0                            0   \n",
       "\n",
       "   account_days_in_dc_12_24m  account_days_in_rem_12_24m  \\\n",
       "0                        0.0                         0.0   \n",
       "1                        0.0                         0.0   \n",
       "2                        0.0                         0.0   \n",
       "3                        NaN                         NaN   \n",
       "4                        0.0                         0.0   \n",
       "\n",
       "   account_days_in_term_12_24m  account_incoming_debt_vs_paid_0_24m  \\\n",
       "0                          0.0                                  0.0   \n",
       "1                          0.0                                  NaN   \n",
       "2                          0.0                                  NaN   \n",
       "3                          NaN                                  NaN   \n",
       "4                          0.0                                  NaN   \n",
       "\n",
       "   account_status  account_worst_status_0_3m  account_worst_status_12_24m  \\\n",
       "0             1.0                        1.0                          NaN   \n",
       "1             1.0                        1.0                          1.0   \n",
       "2             NaN                        NaN                          NaN   \n",
       "3             NaN                        NaN                          NaN   \n",
       "4             NaN                        NaN                          NaN   \n",
       "\n",
       "   ...  status_3rd_last_archived_0_24m  status_max_archived_0_6_months  \\\n",
       "0  ...                               1                               1   \n",
       "1  ...                               1                               1   \n",
       "2  ...                               1                               1   \n",
       "3  ...                               1                               1   \n",
       "4  ...                               0                               1   \n",
       "\n",
       "   status_max_archived_0_12_months  status_max_archived_0_24_months  \\\n",
       "0                                1                                1   \n",
       "1                                2                                2   \n",
       "2                                2                                2   \n",
       "3                                1                                1   \n",
       "4                                1                                1   \n",
       "\n",
       "   recovery_debt sum_capital_paid_account_0_12m  \\\n",
       "0              0                              0   \n",
       "1              0                              0   \n",
       "2              0                              0   \n",
       "3              0                              0   \n",
       "4              0                              0   \n",
       "\n",
       "  sum_capital_paid_account_12_24m  sum_paid_inv_0_12m  time_hours  \\\n",
       "0                               0              178839    9.653333   \n",
       "1                               0               49014   13.181389   \n",
       "2                               0              124839   11.561944   \n",
       "3                               0              324676   15.751111   \n",
       "4                               0                7100   12.698611   \n",
       "\n",
       "   worst_status_active_inv  \n",
       "0                      1.0  \n",
       "1                      NaN  \n",
       "2                      1.0  \n",
       "3                      1.0  \n",
       "4                      NaN  \n",
       "\n",
       "[5 rows x 43 columns]"
      ]
     },
     "execution_count": 5,
     "metadata": {},
     "output_type": "execute_result"
    }
   ],
   "source": [
    "data = pd.read_csv(\"../data/training_dataset.csv\")\n",
    "data.head()"
   ]
  },
  {
   "cell_type": "code",
   "execution_count": 6,
   "id": "c6040998",
   "metadata": {},
   "outputs": [
    {
     "data": {
      "text/plain": [
       "0        0\n",
       "1        0\n",
       "2        0\n",
       "3        0\n",
       "4        0\n",
       "        ..\n",
       "89971    0\n",
       "89972    0\n",
       "89973    0\n",
       "89974    0\n",
       "89975    0\n",
       "Name: sum_capital_paid_account_0_12m, Length: 89976, dtype: int64"
      ]
     },
     "execution_count": 6,
     "metadata": {},
     "output_type": "execute_result"
    }
   ],
   "source": [
    "data['sum_capital_paid_account_0_12m']"
   ]
  },
  {
   "cell_type": "markdown",
   "id": "fc5974d2",
   "metadata": {},
   "source": [
    "## Adding new features"
   ]
  },
  {
   "cell_type": "code",
   "execution_count": 7,
   "id": "dcf36aab",
   "metadata": {},
   "outputs": [],
   "source": [
    "calc_sum_capital_paid_account_0_24m(data)"
   ]
  },
  {
   "cell_type": "code",
   "execution_count": 8,
   "id": "3e0d1752",
   "metadata": {},
   "outputs": [],
   "source": [
    "calc_num_of_paid_inv_0_12m(data)"
   ]
  },
  {
   "cell_type": "code",
   "execution_count": 9,
   "id": "30ae5a04",
   "metadata": {},
   "outputs": [],
   "source": [
    "calc_status_max_active_0_24(data)"
   ]
  },
  {
   "cell_type": "code",
   "execution_count": 10,
   "id": "381755d9",
   "metadata": {},
   "outputs": [
    {
     "data": {
      "text/html": [
       "<div>\n",
       "<style scoped>\n",
       "    .dataframe tbody tr th:only-of-type {\n",
       "        vertical-align: middle;\n",
       "    }\n",
       "\n",
       "    .dataframe tbody tr th {\n",
       "        vertical-align: top;\n",
       "    }\n",
       "\n",
       "    .dataframe thead th {\n",
       "        text-align: right;\n",
       "    }\n",
       "</style>\n",
       "<table border=\"1\" class=\"dataframe\">\n",
       "  <thead>\n",
       "    <tr style=\"text-align: right;\">\n",
       "      <th></th>\n",
       "      <th>uuid</th>\n",
       "      <th>default</th>\n",
       "      <th>account_amount_added_12_24m</th>\n",
       "      <th>account_days_in_dc_12_24m</th>\n",
       "      <th>account_days_in_rem_12_24m</th>\n",
       "      <th>account_days_in_term_12_24m</th>\n",
       "      <th>account_incoming_debt_vs_paid_0_24m</th>\n",
       "      <th>account_status</th>\n",
       "      <th>account_worst_status_0_3m</th>\n",
       "      <th>account_worst_status_12_24m</th>\n",
       "      <th>...</th>\n",
       "      <th>status_max_archived_0_24_months</th>\n",
       "      <th>recovery_debt</th>\n",
       "      <th>sum_capital_paid_account_0_12m</th>\n",
       "      <th>sum_capital_paid_account_12_24m</th>\n",
       "      <th>sum_paid_inv_0_12m</th>\n",
       "      <th>time_hours</th>\n",
       "      <th>worst_status_active_inv</th>\n",
       "      <th>sum_capital_paid_account_0_24m</th>\n",
       "      <th>num_of_paid_inv_0_12m</th>\n",
       "      <th>status_max_active_0_24</th>\n",
       "    </tr>\n",
       "  </thead>\n",
       "  <tbody>\n",
       "    <tr>\n",
       "      <th>0</th>\n",
       "      <td>63f69b2c-8b1c-4740-b78d-52ed9a4515ac</td>\n",
       "      <td>0.0</td>\n",
       "      <td>0</td>\n",
       "      <td>0.0</td>\n",
       "      <td>0.0</td>\n",
       "      <td>0.0</td>\n",
       "      <td>0.0</td>\n",
       "      <td>1.0</td>\n",
       "      <td>1.0</td>\n",
       "      <td>NaN</td>\n",
       "      <td>...</td>\n",
       "      <td>1</td>\n",
       "      <td>0</td>\n",
       "      <td>0</td>\n",
       "      <td>0</td>\n",
       "      <td>178839</td>\n",
       "      <td>9.653333</td>\n",
       "      <td>1.0</td>\n",
       "      <td>0</td>\n",
       "      <td>13.0</td>\n",
       "      <td>1.0</td>\n",
       "    </tr>\n",
       "    <tr>\n",
       "      <th>1</th>\n",
       "      <td>0e961183-8c15-4470-9a5e-07a1bd207661</td>\n",
       "      <td>0.0</td>\n",
       "      <td>0</td>\n",
       "      <td>0.0</td>\n",
       "      <td>0.0</td>\n",
       "      <td>0.0</td>\n",
       "      <td>NaN</td>\n",
       "      <td>1.0</td>\n",
       "      <td>1.0</td>\n",
       "      <td>1.0</td>\n",
       "      <td>...</td>\n",
       "      <td>2</td>\n",
       "      <td>0</td>\n",
       "      <td>0</td>\n",
       "      <td>0</td>\n",
       "      <td>49014</td>\n",
       "      <td>13.181389</td>\n",
       "      <td>NaN</td>\n",
       "      <td>0</td>\n",
       "      <td>0.0</td>\n",
       "      <td>1.0</td>\n",
       "    </tr>\n",
       "    <tr>\n",
       "      <th>2</th>\n",
       "      <td>d8edaae6-4368-44e0-941e-8328f203e64e</td>\n",
       "      <td>0.0</td>\n",
       "      <td>0</td>\n",
       "      <td>0.0</td>\n",
       "      <td>0.0</td>\n",
       "      <td>0.0</td>\n",
       "      <td>NaN</td>\n",
       "      <td>NaN</td>\n",
       "      <td>NaN</td>\n",
       "      <td>NaN</td>\n",
       "      <td>...</td>\n",
       "      <td>2</td>\n",
       "      <td>0</td>\n",
       "      <td>0</td>\n",
       "      <td>0</td>\n",
       "      <td>124839</td>\n",
       "      <td>11.561944</td>\n",
       "      <td>1.0</td>\n",
       "      <td>0</td>\n",
       "      <td>14.0</td>\n",
       "      <td>NaN</td>\n",
       "    </tr>\n",
       "    <tr>\n",
       "      <th>3</th>\n",
       "      <td>0095dfb6-a886-4e2a-b056-15ef45fdb0ef</td>\n",
       "      <td>0.0</td>\n",
       "      <td>0</td>\n",
       "      <td>NaN</td>\n",
       "      <td>NaN</td>\n",
       "      <td>NaN</td>\n",
       "      <td>NaN</td>\n",
       "      <td>NaN</td>\n",
       "      <td>NaN</td>\n",
       "      <td>NaN</td>\n",
       "      <td>...</td>\n",
       "      <td>1</td>\n",
       "      <td>0</td>\n",
       "      <td>0</td>\n",
       "      <td>0</td>\n",
       "      <td>324676</td>\n",
       "      <td>15.751111</td>\n",
       "      <td>1.0</td>\n",
       "      <td>0</td>\n",
       "      <td>32.0</td>\n",
       "      <td>NaN</td>\n",
       "    </tr>\n",
       "    <tr>\n",
       "      <th>4</th>\n",
       "      <td>c8f8b835-5647-4506-bf15-49105d8af30b</td>\n",
       "      <td>0.0</td>\n",
       "      <td>0</td>\n",
       "      <td>0.0</td>\n",
       "      <td>0.0</td>\n",
       "      <td>0.0</td>\n",
       "      <td>NaN</td>\n",
       "      <td>NaN</td>\n",
       "      <td>NaN</td>\n",
       "      <td>NaN</td>\n",
       "      <td>...</td>\n",
       "      <td>1</td>\n",
       "      <td>0</td>\n",
       "      <td>0</td>\n",
       "      <td>0</td>\n",
       "      <td>7100</td>\n",
       "      <td>12.698611</td>\n",
       "      <td>NaN</td>\n",
       "      <td>0</td>\n",
       "      <td>0.0</td>\n",
       "      <td>NaN</td>\n",
       "    </tr>\n",
       "  </tbody>\n",
       "</table>\n",
       "<p>5 rows × 46 columns</p>\n",
       "</div>"
      ],
      "text/plain": [
       "                                   uuid  default  account_amount_added_12_24m  \\\n",
       "0  63f69b2c-8b1c-4740-b78d-52ed9a4515ac      0.0                            0   \n",
       "1  0e961183-8c15-4470-9a5e-07a1bd207661      0.0                            0   \n",
       "2  d8edaae6-4368-44e0-941e-8328f203e64e      0.0                            0   \n",
       "3  0095dfb6-a886-4e2a-b056-15ef45fdb0ef      0.0                            0   \n",
       "4  c8f8b835-5647-4506-bf15-49105d8af30b      0.0                            0   \n",
       "\n",
       "   account_days_in_dc_12_24m  account_days_in_rem_12_24m  \\\n",
       "0                        0.0                         0.0   \n",
       "1                        0.0                         0.0   \n",
       "2                        0.0                         0.0   \n",
       "3                        NaN                         NaN   \n",
       "4                        0.0                         0.0   \n",
       "\n",
       "   account_days_in_term_12_24m  account_incoming_debt_vs_paid_0_24m  \\\n",
       "0                          0.0                                  0.0   \n",
       "1                          0.0                                  NaN   \n",
       "2                          0.0                                  NaN   \n",
       "3                          NaN                                  NaN   \n",
       "4                          0.0                                  NaN   \n",
       "\n",
       "   account_status  account_worst_status_0_3m  account_worst_status_12_24m  \\\n",
       "0             1.0                        1.0                          NaN   \n",
       "1             1.0                        1.0                          1.0   \n",
       "2             NaN                        NaN                          NaN   \n",
       "3             NaN                        NaN                          NaN   \n",
       "4             NaN                        NaN                          NaN   \n",
       "\n",
       "   ...  status_max_archived_0_24_months  recovery_debt  \\\n",
       "0  ...                                1              0   \n",
       "1  ...                                2              0   \n",
       "2  ...                                2              0   \n",
       "3  ...                                1              0   \n",
       "4  ...                                1              0   \n",
       "\n",
       "   sum_capital_paid_account_0_12m  sum_capital_paid_account_12_24m  \\\n",
       "0                               0                                0   \n",
       "1                               0                                0   \n",
       "2                               0                                0   \n",
       "3                               0                                0   \n",
       "4                               0                                0   \n",
       "\n",
       "   sum_paid_inv_0_12m time_hours worst_status_active_inv  \\\n",
       "0              178839   9.653333                     1.0   \n",
       "1               49014  13.181389                     NaN   \n",
       "2              124839  11.561944                     1.0   \n",
       "3              324676  15.751111                     1.0   \n",
       "4                7100  12.698611                     NaN   \n",
       "\n",
       "   sum_capital_paid_account_0_24m  num_of_paid_inv_0_12m  \\\n",
       "0                               0                   13.0   \n",
       "1                               0                    0.0   \n",
       "2                               0                   14.0   \n",
       "3                               0                   32.0   \n",
       "4                               0                    0.0   \n",
       "\n",
       "   status_max_active_0_24  \n",
       "0                     1.0  \n",
       "1                     1.0  \n",
       "2                     NaN  \n",
       "3                     NaN  \n",
       "4                     NaN  \n",
       "\n",
       "[5 rows x 46 columns]"
      ]
     },
     "execution_count": 10,
     "metadata": {},
     "output_type": "execute_result"
    }
   ],
   "source": [
    "data.head()"
   ]
  },
  {
   "cell_type": "markdown",
   "id": "514f75d7",
   "metadata": {},
   "source": [
    "## Removing unwanted features"
   ]
  },
  {
   "cell_type": "code",
   "execution_count": 11,
   "id": "616563fa",
   "metadata": {},
   "outputs": [],
   "source": [
    "unwanted_fets = ['uuid', 'age', 'name_in_email', 'merchant_group', 'time_hours', 'avg_payment_span_0_12m', 'avg_payment_span_0_3m'\n",
    "                 , 'account_incoming_debt_vs_paid_0_24m', 'num_arch_written_off_0_12m', \"num_arch_written_off_12_24m\", \"recovery_debt\", 'account_days_in_dc_12_24m'\n",
    "                 , 'account_days_in_term_12_24m', 'num_arch_dc_0_12m','num_arch_dc_12_24m' , 'num_active_inv', 'max_paid_inv_0_12m', 'sum_capital_paid_account_0_12m', 'sum_capital_paid_account_12_24m'\n",
    "                 , 'account_worst_status_0_3m', 'account_worst_status_12_24m', 'account_worst_status_3_6m', 'account_worst_status_6_12m']\n",
    "data.drop(columns=unwanted_fets, inplace=True)"
   ]
  },
  {
   "cell_type": "code",
   "execution_count": 12,
   "id": "e0da2ebe",
   "metadata": {},
   "outputs": [
    {
     "data": {
      "text/html": [
       "<div>\n",
       "<style scoped>\n",
       "    .dataframe tbody tr th:only-of-type {\n",
       "        vertical-align: middle;\n",
       "    }\n",
       "\n",
       "    .dataframe tbody tr th {\n",
       "        vertical-align: top;\n",
       "    }\n",
       "\n",
       "    .dataframe thead th {\n",
       "        text-align: right;\n",
       "    }\n",
       "</style>\n",
       "<table border=\"1\" class=\"dataframe\">\n",
       "  <thead>\n",
       "    <tr style=\"text-align: right;\">\n",
       "      <th></th>\n",
       "      <th>default</th>\n",
       "      <th>account_amount_added_12_24m</th>\n",
       "      <th>account_days_in_rem_12_24m</th>\n",
       "      <th>account_status</th>\n",
       "      <th>merchant_category</th>\n",
       "      <th>has_paid</th>\n",
       "      <th>max_paid_inv_0_24m</th>\n",
       "      <th>num_active_div_by_paid_inv_0_12m</th>\n",
       "      <th>num_arch_ok_0_12m</th>\n",
       "      <th>num_arch_ok_12_24m</th>\n",
       "      <th>...</th>\n",
       "      <th>status_2nd_last_archived_0_24m</th>\n",
       "      <th>status_3rd_last_archived_0_24m</th>\n",
       "      <th>status_max_archived_0_6_months</th>\n",
       "      <th>status_max_archived_0_12_months</th>\n",
       "      <th>status_max_archived_0_24_months</th>\n",
       "      <th>sum_paid_inv_0_12m</th>\n",
       "      <th>worst_status_active_inv</th>\n",
       "      <th>sum_capital_paid_account_0_24m</th>\n",
       "      <th>num_of_paid_inv_0_12m</th>\n",
       "      <th>status_max_active_0_24</th>\n",
       "    </tr>\n",
       "  </thead>\n",
       "  <tbody>\n",
       "    <tr>\n",
       "      <th>0</th>\n",
       "      <td>0.0</td>\n",
       "      <td>0</td>\n",
       "      <td>0.0</td>\n",
       "      <td>1.0</td>\n",
       "      <td>Dietary supplements</td>\n",
       "      <td>True</td>\n",
       "      <td>31638.0</td>\n",
       "      <td>0.153846</td>\n",
       "      <td>13</td>\n",
       "      <td>14</td>\n",
       "      <td>...</td>\n",
       "      <td>1</td>\n",
       "      <td>1</td>\n",
       "      <td>1</td>\n",
       "      <td>1</td>\n",
       "      <td>1</td>\n",
       "      <td>178839</td>\n",
       "      <td>1.0</td>\n",
       "      <td>0</td>\n",
       "      <td>13.0</td>\n",
       "      <td>1.0</td>\n",
       "    </tr>\n",
       "    <tr>\n",
       "      <th>1</th>\n",
       "      <td>0.0</td>\n",
       "      <td>0</td>\n",
       "      <td>0.0</td>\n",
       "      <td>1.0</td>\n",
       "      <td>Books &amp; Magazines</td>\n",
       "      <td>True</td>\n",
       "      <td>13749.0</td>\n",
       "      <td>0.000000</td>\n",
       "      <td>9</td>\n",
       "      <td>19</td>\n",
       "      <td>...</td>\n",
       "      <td>1</td>\n",
       "      <td>1</td>\n",
       "      <td>1</td>\n",
       "      <td>2</td>\n",
       "      <td>2</td>\n",
       "      <td>49014</td>\n",
       "      <td>NaN</td>\n",
       "      <td>0</td>\n",
       "      <td>0.0</td>\n",
       "      <td>1.0</td>\n",
       "    </tr>\n",
       "    <tr>\n",
       "      <th>2</th>\n",
       "      <td>0.0</td>\n",
       "      <td>0</td>\n",
       "      <td>0.0</td>\n",
       "      <td>NaN</td>\n",
       "      <td>Diversified entertainment</td>\n",
       "      <td>True</td>\n",
       "      <td>29890.0</td>\n",
       "      <td>0.071429</td>\n",
       "      <td>11</td>\n",
       "      <td>0</td>\n",
       "      <td>...</td>\n",
       "      <td>1</td>\n",
       "      <td>1</td>\n",
       "      <td>1</td>\n",
       "      <td>2</td>\n",
       "      <td>2</td>\n",
       "      <td>124839</td>\n",
       "      <td>1.0</td>\n",
       "      <td>0</td>\n",
       "      <td>14.0</td>\n",
       "      <td>NaN</td>\n",
       "    </tr>\n",
       "    <tr>\n",
       "      <th>3</th>\n",
       "      <td>0.0</td>\n",
       "      <td>0</td>\n",
       "      <td>NaN</td>\n",
       "      <td>NaN</td>\n",
       "      <td>Diversified entertainment</td>\n",
       "      <td>True</td>\n",
       "      <td>40040.0</td>\n",
       "      <td>0.031250</td>\n",
       "      <td>31</td>\n",
       "      <td>21</td>\n",
       "      <td>...</td>\n",
       "      <td>1</td>\n",
       "      <td>1</td>\n",
       "      <td>1</td>\n",
       "      <td>1</td>\n",
       "      <td>1</td>\n",
       "      <td>324676</td>\n",
       "      <td>1.0</td>\n",
       "      <td>0</td>\n",
       "      <td>32.0</td>\n",
       "      <td>NaN</td>\n",
       "    </tr>\n",
       "    <tr>\n",
       "      <th>4</th>\n",
       "      <td>0.0</td>\n",
       "      <td>0</td>\n",
       "      <td>0.0</td>\n",
       "      <td>NaN</td>\n",
       "      <td>Electronic equipment &amp; Related accessories</td>\n",
       "      <td>True</td>\n",
       "      <td>7100.0</td>\n",
       "      <td>0.000000</td>\n",
       "      <td>1</td>\n",
       "      <td>0</td>\n",
       "      <td>...</td>\n",
       "      <td>0</td>\n",
       "      <td>0</td>\n",
       "      <td>1</td>\n",
       "      <td>1</td>\n",
       "      <td>1</td>\n",
       "      <td>7100</td>\n",
       "      <td>NaN</td>\n",
       "      <td>0</td>\n",
       "      <td>0.0</td>\n",
       "      <td>NaN</td>\n",
       "    </tr>\n",
       "  </tbody>\n",
       "</table>\n",
       "<p>5 rows × 23 columns</p>\n",
       "</div>"
      ],
      "text/plain": [
       "   default  account_amount_added_12_24m  account_days_in_rem_12_24m  \\\n",
       "0      0.0                            0                         0.0   \n",
       "1      0.0                            0                         0.0   \n",
       "2      0.0                            0                         0.0   \n",
       "3      0.0                            0                         NaN   \n",
       "4      0.0                            0                         0.0   \n",
       "\n",
       "   account_status                           merchant_category  has_paid  \\\n",
       "0             1.0                         Dietary supplements      True   \n",
       "1             1.0                           Books & Magazines      True   \n",
       "2             NaN                   Diversified entertainment      True   \n",
       "3             NaN                   Diversified entertainment      True   \n",
       "4             NaN  Electronic equipment & Related accessories      True   \n",
       "\n",
       "   max_paid_inv_0_24m  num_active_div_by_paid_inv_0_12m  num_arch_ok_0_12m  \\\n",
       "0             31638.0                          0.153846                 13   \n",
       "1             13749.0                          0.000000                  9   \n",
       "2             29890.0                          0.071429                 11   \n",
       "3             40040.0                          0.031250                 31   \n",
       "4              7100.0                          0.000000                  1   \n",
       "\n",
       "   num_arch_ok_12_24m  ...  status_2nd_last_archived_0_24m  \\\n",
       "0                  14  ...                               1   \n",
       "1                  19  ...                               1   \n",
       "2                   0  ...                               1   \n",
       "3                  21  ...                               1   \n",
       "4                   0  ...                               0   \n",
       "\n",
       "   status_3rd_last_archived_0_24m  status_max_archived_0_6_months  \\\n",
       "0                               1                               1   \n",
       "1                               1                               1   \n",
       "2                               1                               1   \n",
       "3                               1                               1   \n",
       "4                               0                               1   \n",
       "\n",
       "   status_max_archived_0_12_months  status_max_archived_0_24_months  \\\n",
       "0                                1                                1   \n",
       "1                                2                                2   \n",
       "2                                2                                2   \n",
       "3                                1                                1   \n",
       "4                                1                                1   \n",
       "\n",
       "   sum_paid_inv_0_12m  worst_status_active_inv  \\\n",
       "0              178839                      1.0   \n",
       "1               49014                      NaN   \n",
       "2              124839                      1.0   \n",
       "3              324676                      1.0   \n",
       "4                7100                      NaN   \n",
       "\n",
       "   sum_capital_paid_account_0_24m  num_of_paid_inv_0_12m  \\\n",
       "0                               0                   13.0   \n",
       "1                               0                    0.0   \n",
       "2                               0                   14.0   \n",
       "3                               0                   32.0   \n",
       "4                               0                    0.0   \n",
       "\n",
       "   status_max_active_0_24  \n",
       "0                     1.0  \n",
       "1                     1.0  \n",
       "2                     NaN  \n",
       "3                     NaN  \n",
       "4                     NaN  \n",
       "\n",
       "[5 rows x 23 columns]"
      ]
     },
     "execution_count": 12,
     "metadata": {},
     "output_type": "execute_result"
    }
   ],
   "source": [
    "data.head()"
   ]
  },
  {
   "cell_type": "code",
   "execution_count": 13,
   "id": "dac7c779",
   "metadata": {},
   "outputs": [
    {
     "data": {
      "text/plain": [
       "23"
      ]
     },
     "execution_count": 13,
     "metadata": {},
     "output_type": "execute_result"
    }
   ],
   "source": [
    "len(data.columns)"
   ]
  },
  {
   "cell_type": "markdown",
   "id": "587e9f0b",
   "metadata": {},
   "source": [
    "## Split dataset into train and test"
   ]
  },
  {
   "cell_type": "code",
   "execution_count": 14,
   "id": "38d9dc71",
   "metadata": {},
   "outputs": [
    {
     "data": {
      "text/plain": [
       "((71980, 22), (17996, 22), (71980,), (17996,))"
      ]
     },
     "execution_count": 14,
     "metadata": {},
     "output_type": "execute_result"
    }
   ],
   "source": [
    "X_train, X_test, y_train, y_test = train_test_split(\n",
    "    data.drop('default', axis=1), # predictors\n",
    "    data.default, # target\n",
    "    test_size=0.2,\n",
    "    random_state=0)  # for reproducibility\n",
    "\n",
    "X_train.shape, X_test.shape, y_train.shape, y_test.shape"
   ]
  },
  {
   "cell_type": "markdown",
   "id": "ca0728cf",
   "metadata": {},
   "source": [
    "## Feature engineering"
   ]
  },
  {
   "cell_type": "code",
   "execution_count": 15,
   "id": "1a8e84ea",
   "metadata": {},
   "outputs": [],
   "source": [
    "# define list for both categorical and continuous/numerical features\n",
    "con_fets = ['num_arch_ok_0_12m', 'account_amount_added_12_24m', 'account_days_in_rem_12_24m', 'max_paid_inv_0_24m', 'num_active_div_by_paid_inv_0_12m', 'num_arch_ok_12_24m', 'num_arch_rem_0_12m', 'num_unpaid_bills', 'sum_paid_inv_0_12m', 'sum_capital_paid_account_0_24m', 'num_of_paid_inv_0_12m']\n",
    "cat_fets = list(set(data.columns) - set(con_fets) - set(['default', 'worst_status_active_inv', 'account_status', 'status_max_active_0_24']))\n",
    "#, 'worst_status_active_inv', 'account_status', 'status_max_active_0_24' "
   ]
  },
  {
   "cell_type": "code",
   "execution_count": 16,
   "id": "9d1bdbdd",
   "metadata": {},
   "outputs": [
    {
     "data": {
      "text/plain": [
       "num_active_div_by_paid_inv_0_12m    0.231425\n",
       "account_days_in_rem_12_24m          0.118533\n",
       "num_of_paid_inv_0_12m               0.021464\n",
       "num_arch_ok_0_12m                   0.000000\n",
       "account_amount_added_12_24m         0.000000\n",
       "max_paid_inv_0_24m                  0.000000\n",
       "num_arch_ok_12_24m                  0.000000\n",
       "num_arch_rem_0_12m                  0.000000\n",
       "num_unpaid_bills                    0.000000\n",
       "sum_paid_inv_0_12m                  0.000000\n",
       "sum_capital_paid_account_0_24m      0.000000\n",
       "dtype: float64"
      ]
     },
     "execution_count": 16,
     "metadata": {},
     "output_type": "execute_result"
    }
   ],
   "source": [
    "# check for missing values in our continuous/numerical features\n",
    "X_train[con_fets].isnull().mean().sort_values(ascending=False)"
   ]
  },
  {
   "cell_type": "code",
   "execution_count": 17,
   "id": "76cf173a",
   "metadata": {},
   "outputs": [
    {
     "data": {
      "text/plain": [
       "status_max_archived_0_6_months     0.0\n",
       "status_last_archived_0_24m         0.0\n",
       "status_max_archived_0_24_months    0.0\n",
       "status_3rd_last_archived_0_24m     0.0\n",
       "merchant_category                  0.0\n",
       "has_paid                           0.0\n",
       "status_2nd_last_archived_0_24m     0.0\n",
       "status_max_archived_0_12_months    0.0\n",
       "dtype: float64"
      ]
     },
     "execution_count": 17,
     "metadata": {},
     "output_type": "execute_result"
    }
   ],
   "source": [
    "# check for missing values in our categorical features\n",
    "X_train[cat_fets].isnull().mean().sort_values(ascending=False)\n",
    "\n",
    "# missing categorical data will be handeled by the model"
   ]
  },
  {
   "cell_type": "code",
   "execution_count": 18,
   "id": "f5d3160c",
   "metadata": {},
   "outputs": [],
   "source": [
    "# Fill missing numerical values \n",
    "imputer = SimpleImputer(strategy='most_frequent')\n",
    "X_train[con_fets] = imputer.fit_transform(X_train[con_fets])\n",
    "X_test[con_fets] = imputer.transform(X_test[con_fets])"
   ]
  },
  {
   "cell_type": "code",
   "execution_count": 19,
   "id": "90d2f096",
   "metadata": {},
   "outputs": [],
   "source": [
    "scaler = MinMaxScaler()\n",
    "X_train[con_fets] = scaler.fit_transform(X_train[con_fets])\n",
    "X_test[con_fets] = scaler.transform(X_test[con_fets])"
   ]
  },
  {
   "cell_type": "code",
   "execution_count": 20,
   "id": "47387f81",
   "metadata": {},
   "outputs": [],
   "source": [
    "# encode merchant_category\n",
    "\n",
    "ordinal_enc = OneHotEncoder()\n",
    "X_train = ordinal_enc.fit_transform(X_train)\n",
    "X_test = ordinal_enc.transform(X_test)"
   ]
  },
  {
   "cell_type": "code",
   "execution_count": 21,
   "id": "c087ba81",
   "metadata": {},
   "outputs": [
    {
     "data": {
      "text/plain": [
       "Index(['account_amount_added_12_24m', 'account_days_in_rem_12_24m',\n",
       "       'account_status', 'has_paid', 'max_paid_inv_0_24m',\n",
       "       'num_active_div_by_paid_inv_0_12m', 'num_arch_ok_0_12m',\n",
       "       'num_arch_ok_12_24m', 'num_arch_rem_0_12m', 'num_unpaid_bills',\n",
       "       'status_last_archived_0_24m', 'status_2nd_last_archived_0_24m',\n",
       "       'status_3rd_last_archived_0_24m', 'status_max_archived_0_6_months',\n",
       "       'status_max_archived_0_12_months', 'status_max_archived_0_24_months',\n",
       "       'sum_paid_inv_0_12m', 'worst_status_active_inv',\n",
       "       'sum_capital_paid_account_0_24m', 'num_of_paid_inv_0_12m',\n",
       "       'status_max_active_0_24', 'merchant_category_Diversified entertainment',\n",
       "       'merchant_category_Diversified electronics',\n",
       "       'merchant_category_Automotive Parts & Accessories',\n",
       "       'merchant_category_Personal care & Body improvement',\n",
       "       'merchant_category_Youthful Shoes & Clothing',\n",
       "       'merchant_category_Books & Magazines',\n",
       "       'merchant_category_Concept stores & Miscellaneous',\n",
       "       'merchant_category_Sex toys', 'merchant_category_Dietary supplements',\n",
       "       'merchant_category_General Shoes & Clothing',\n",
       "       'merchant_category_Children toys',\n",
       "       'merchant_category_Sports gear & Outdoor',\n",
       "       'merchant_category_Body & Hair Care',\n",
       "       'merchant_category_Tools & Home improvement',\n",
       "       'merchant_category_Dating services',\n",
       "       'merchant_category_Jewelry & Watches',\n",
       "       'merchant_category_Music & Movies',\n",
       "       'merchant_category_Prescription optics',\n",
       "       'merchant_category_Diversified Health & Beauty products',\n",
       "       'merchant_category_Hobby articles',\n",
       "       'merchant_category_Diversified children products',\n",
       "       'merchant_category_Children Clothes & Nurturing products',\n",
       "       'merchant_category_Prints & Photos', 'merchant_category_Furniture',\n",
       "       'merchant_category_Decoration & Art',\n",
       "       'merchant_category_Costumes & Party supplies',\n",
       "       'merchant_category_Diversified Jewelry & Accessories',\n",
       "       'merchant_category_Travel services', 'merchant_category_Pet supplies',\n",
       "       'merchant_category_Diversified Home & Garden products',\n",
       "       'merchant_category_Diversified erotic material',\n",
       "       'merchant_category_Electronic equipment & Related accessories',\n",
       "       'merchant_category_Fragrances',\n",
       "       'merchant_category_Video Games & Related accessories',\n",
       "       'merchant_category_Cosmetics', 'merchant_category_Kitchenware',\n",
       "       'merchant_category_Adult Shoes & Clothing',\n",
       "       'merchant_category_Collectibles', 'merchant_category_Digital services',\n",
       "       'merchant_category_Pharmaceutical products',\n",
       "       'merchant_category_Event tickets',\n",
       "       'merchant_category_Household electronics (whitegoods/appliances)',\n",
       "       'merchant_category_Erotic Clothing & Accessories',\n",
       "       'merchant_category_Food & Beverage',\n",
       "       'merchant_category_Musical Instruments & Equipment',\n",
       "       'merchant_category_Plants & Flowers',\n",
       "       'merchant_category_Wheels & Tires', 'merchant_category_Bags & Wallets',\n",
       "       'merchant_category_Underwear', 'merchant_category_Tobacco',\n",
       "       'merchant_category_Office machines & Related accessories (excl. computers)',\n",
       "       'merchant_category_Safety products',\n",
       "       'merchant_category_Cleaning & Sanitary',\n",
       "       'merchant_category_Wine, Beer & Liquor',\n",
       "       'merchant_category_Car electronics', 'merchant_category_Non',\n",
       "       'merchant_category_Education'],\n",
       "      dtype='object')"
      ]
     },
     "execution_count": 21,
     "metadata": {},
     "output_type": "execute_result"
    }
   ],
   "source": [
    "X_train.columns"
   ]
  },
  {
   "cell_type": "markdown",
   "id": "d3b2adf5",
   "metadata": {},
   "source": [
    "## Undersampling"
   ]
  },
  {
   "cell_type": "code",
   "execution_count": 23,
   "id": "027bad7e",
   "metadata": {},
   "outputs": [],
   "source": [
    "tl = SMOTETomek()#TomekLinks(sampling_strategy='not majority')\n",
    "X_res, y_res = tl.fit_resample(X_train.fillna(0), y_train)\n"
   ]
  },
  {
   "cell_type": "code",
   "execution_count": 24,
   "id": "c78c0836",
   "metadata": {},
   "outputs": [
    {
     "data": {
      "text/plain": [
       "((141784, 78), (71980, 78))"
      ]
     },
     "execution_count": 24,
     "metadata": {},
     "output_type": "execute_result"
    }
   ],
   "source": [
    "X_res.shape, X_train.shape"
   ]
  },
  {
   "cell_type": "markdown",
   "id": "fdad8029",
   "metadata": {},
   "source": [
    "## Modelling"
   ]
  },
  {
   "cell_type": "markdown",
   "id": "23327b3a",
   "metadata": {},
   "source": [
    "### Baseline model"
   ]
  },
  {
   "cell_type": "code",
   "execution_count": 25,
   "id": "ea467799",
   "metadata": {},
   "outputs": [
    {
     "name": "stderr",
     "output_type": "stream",
     "text": [
      "C:\\Users\\Ahmed\\anaconda3\\lib\\site-packages\\xgboost\\sklearn.py:1224: UserWarning: The use of label encoder in XGBClassifier is deprecated and will be removed in a future release. To remove this warning, do the following: 1) Pass option use_label_encoder=False when constructing XGBClassifier object; and 2) Encode your labels (y) as integers starting with 0, i.e. 0, 1, 2, ..., [num_class - 1].\n",
      "  warnings.warn(label_encoder_deprecation_msg, UserWarning)\n"
     ]
    },
    {
     "name": "stdout",
     "output_type": "stream",
     "text": [
      "[02:44:43] WARNING: ..\\src\\learner.cc:1115: Starting in XGBoost 1.3.0, the default evaluation metric used with the objective 'binary:logistic' was changed from 'error' to 'logloss'. Explicitly set eval_metric if you'd like to restore the old behavior.\n"
     ]
    },
    {
     "data": {
      "text/plain": [
       "XGBClassifier(base_score=0.5, booster='gbtree', colsample_bylevel=1,\n",
       "              colsample_bynode=1, colsample_bytree=1, enable_categorical=False,\n",
       "              gamma=0, gpu_id=-1, importance_type=None,\n",
       "              interaction_constraints='', learning_rate=0.001, max_delta_step=0,\n",
       "              max_depth=1, min_child_weight=1, missing=nan,\n",
       "              monotone_constraints='()', n_estimators=100, n_jobs=8,\n",
       "              num_parallel_tree=1, predictor='auto', random_state=0,\n",
       "              reg_alpha=0, reg_lambda=1, scale_pos_weight=1, subsample=1,\n",
       "              tree_method='exact', validate_parameters=1, verbosity=None)"
      ]
     },
     "execution_count": 25,
     "metadata": {},
     "output_type": "execute_result"
    }
   ],
   "source": [
    "xgb_model = XGBClassifier(learning_rate=0.001,\n",
    "                            max_depth = 1, \n",
    "                            n_estimators = 100)\n",
    "xgb_model.fit(X_res, y_res)\n",
    "#scale_pos_weight=0                              "
   ]
  },
  {
   "cell_type": "code",
   "execution_count": 26,
   "id": "88e81aac",
   "metadata": {},
   "outputs": [
    {
     "name": "stdout",
     "output_type": "stream",
     "text": [
      "confusion_matrix  [[10629  7104]\n",
      " [   54   209]]\n",
      "classification_report               precision    recall  f1-score   support\n",
      "\n",
      "         0.0       0.99      0.60      0.75     17733\n",
      "         1.0       0.03      0.79      0.06       263\n",
      "\n",
      "    accuracy                           0.60     17996\n",
      "   macro avg       0.51      0.70      0.40     17996\n",
      "weighted avg       0.98      0.60      0.74     17996\n",
      "\n",
      "Accuracy per class [59.9390966  79.46768061]\n"
     ]
    }
   ],
   "source": [
    "xgb_predict = xgb_model.predict(X_test)\n",
    "confusion_mat = confusion_matrix(y_test,xgb_predict)\n",
    "print(\"confusion_matrix \", confusion_mat)\n",
    "class_report = classification_report(y_test,xgb_predict)\n",
    "print(\"classification_report\", class_report)\n",
    "print(\"Accuracy per class\", 100 * confusion_mat.diagonal()/confusion_mat.sum(axis=1))"
   ]
  },
  {
   "cell_type": "code",
   "execution_count": 27,
   "id": "8c3e0c68",
   "metadata": {},
   "outputs": [
    {
     "data": {
      "text/plain": [
       "'\\nfrom numpy import mean\\nfrom sklearn.model_selection import GridSearchCV\\nfrom sklearn.model_selection import RepeatedStratifiedKFold\\nfrom xgboost import XGBClassifier\\n\\n\\n# define model\\nmodel = XGBClassifier()\\n# define grid\\nweights = [1, 10, 25, 50, 75, 99, 100, 1000]\\nparam_grid = dict(scale_pos_weight=weights)\\n# define evaluation procedure\\ncv = RepeatedStratifiedKFold(n_splits=10, n_repeats=3, random_state=1)\\n# define grid search\\nscoring=[\\'accuracy\\',\\'precision_macro\\',\\'recall_macro\\']\\ngrid = GridSearchCV(estimator=model, param_grid=param_grid, n_jobs=-1, cv=cv, scoring=\\'precision_macro\\')\\n# execute the grid search\\ngrid_result = grid.fit(X_train, y_train)\\n# report the best configuration\\nprint(\"Best: %f using %s\" % (grid_result.best_score_, grid_result.best_params_))\\n# report all configurations\\nmeans = grid_result.cv_results_[\\'mean_test_score\\']\\nstds = grid_result.cv_results_[\\'std_test_score\\']\\nparams = grid_result.cv_results_[\\'params\\']\\nfor mean, stdev, param in zip(means, stds, params):\\n    print(\"%f (%f) with: %r\" % (mean, stdev, param))\\n'"
      ]
     },
     "execution_count": 27,
     "metadata": {},
     "output_type": "execute_result"
    }
   ],
   "source": [
    "\"\"\"\n",
    "from numpy import mean\n",
    "from sklearn.model_selection import GridSearchCV\n",
    "from sklearn.model_selection import RepeatedStratifiedKFold\n",
    "from xgboost import XGBClassifier\n",
    "\n",
    "\n",
    "# define model\n",
    "model = XGBClassifier()\n",
    "# define grid\n",
    "weights = [1, 10, 25, 50, 75, 99, 100, 1000]\n",
    "param_grid = dict(scale_pos_weight=weights)\n",
    "# define evaluation procedure\n",
    "cv = RepeatedStratifiedKFold(n_splits=10, n_repeats=3, random_state=1)\n",
    "# define grid search\n",
    "scoring=['accuracy','precision_macro','recall_macro']\n",
    "grid = GridSearchCV(estimator=model, param_grid=param_grid, n_jobs=-1, cv=cv, scoring='precision_macro')\n",
    "# execute the grid search\n",
    "grid_result = grid.fit(X_train, y_train)\n",
    "# report the best configuration\n",
    "print(\"Best: %f using %s\" % (grid_result.best_score_, grid_result.best_params_))\n",
    "# report all configurations\n",
    "means = grid_result.cv_results_['mean_test_score']\n",
    "stds = grid_result.cv_results_['std_test_score']\n",
    "params = grid_result.cv_results_['params']\n",
    "for mean, stdev, param in zip(means, stds, params):\n",
    "    print(\"%f (%f) with: %r\" % (mean, stdev, param))\n",
    "\"\"\""
   ]
  },
  {
   "cell_type": "code",
   "execution_count": 28,
   "id": "687ba69e",
   "metadata": {},
   "outputs": [
    {
     "ename": "NameError",
     "evalue": "name 'grid' is not defined",
     "output_type": "error",
     "traceback": [
      "\u001b[1;31m---------------------------------------------------------------------------\u001b[0m",
      "\u001b[1;31mNameError\u001b[0m                                 Traceback (most recent call last)",
      "\u001b[1;32m~\\AppData\\Local\\Temp/ipykernel_16904/3604502920.py\u001b[0m in \u001b[0;36m<module>\u001b[1;34m\u001b[0m\n\u001b[1;32m----> 1\u001b[1;33m \u001b[0mxgb_grid_predict\u001b[0m \u001b[1;33m=\u001b[0m \u001b[0mgrid\u001b[0m\u001b[1;33m.\u001b[0m\u001b[0mpredict\u001b[0m\u001b[1;33m(\u001b[0m\u001b[0mX_test\u001b[0m\u001b[1;33m)\u001b[0m\u001b[1;33m\u001b[0m\u001b[1;33m\u001b[0m\u001b[0m\n\u001b[0m\u001b[0;32m      2\u001b[0m \u001b[0mconfusion_mat\u001b[0m \u001b[1;33m=\u001b[0m \u001b[0mconfusion_matrix\u001b[0m\u001b[1;33m(\u001b[0m\u001b[0my_test\u001b[0m\u001b[1;33m,\u001b[0m\u001b[0mxgb_grid_predict\u001b[0m\u001b[1;33m)\u001b[0m\u001b[1;33m\u001b[0m\u001b[1;33m\u001b[0m\u001b[0m\n\u001b[0;32m      3\u001b[0m \u001b[0mprint\u001b[0m\u001b[1;33m(\u001b[0m\u001b[1;34m\"confusion_matrix \"\u001b[0m\u001b[1;33m,\u001b[0m \u001b[0mconfusion_mat\u001b[0m\u001b[1;33m)\u001b[0m\u001b[1;33m\u001b[0m\u001b[1;33m\u001b[0m\u001b[0m\n\u001b[0;32m      4\u001b[0m \u001b[0mclass_report\u001b[0m \u001b[1;33m=\u001b[0m \u001b[0mclassification_report\u001b[0m\u001b[1;33m(\u001b[0m\u001b[0my_test\u001b[0m\u001b[1;33m,\u001b[0m\u001b[0mxgb_grid_predict\u001b[0m\u001b[1;33m)\u001b[0m\u001b[1;33m\u001b[0m\u001b[1;33m\u001b[0m\u001b[0m\n\u001b[0;32m      5\u001b[0m \u001b[0mprint\u001b[0m\u001b[1;33m(\u001b[0m\u001b[1;34m\"classification_report\"\u001b[0m\u001b[1;33m,\u001b[0m \u001b[0mclass_report\u001b[0m\u001b[1;33m)\u001b[0m\u001b[1;33m\u001b[0m\u001b[1;33m\u001b[0m\u001b[0m\n",
      "\u001b[1;31mNameError\u001b[0m: name 'grid' is not defined"
     ]
    }
   ],
   "source": [
    "xgb_grid_predict = grid.predict(X_test)\n",
    "confusion_mat = confusion_matrix(y_test,xgb_grid_predict)\n",
    "print(\"confusion_matrix \", confusion_mat)\n",
    "class_report = classification_report(y_test,xgb_grid_predict)\n",
    "print(\"classification_report\", class_report)\n",
    "print(\"Accuracy per class\", 100 * confusion_mat.diagonal()/confusion_mat.sum(axis=1))"
   ]
  },
  {
   "cell_type": "code",
   "execution_count": 31,
   "id": "c0ef9e2d",
   "metadata": {},
   "outputs": [
    {
     "name": "stdout",
     "output_type": "stream",
     "text": [
      "Mean ROC AUC: 0.729\n"
     ]
    }
   ],
   "source": [
    "# easy ensemble for imbalanced classification\n",
    "from numpy import mean\n",
    "from sklearn.model_selection import cross_val_score\n",
    "from sklearn.model_selection import RepeatedStratifiedKFold\n",
    "from sklearn.ensemble import RandomForestClassifier\n",
    "\n",
    "\n",
    "model = RandomForestClassifier(n_estimators=10, class_weight='balanced_subsample')\n",
    "# balanced_subsample\n",
    "# define evaluation procedure\n",
    "cv = RepeatedStratifiedKFold(n_splits=10, n_repeats=3, random_state=1)\n",
    "# evaluate model\n",
    "scores = cross_val_score(model, X_train.fillna(0), y_train, scoring='roc_auc', cv=cv, n_jobs=-1)\n",
    "# summarize performance\n",
    "print('Mean ROC AUC: %.3f' % mean(scores))"
   ]
  },
  {
   "cell_type": "code",
   "execution_count": 32,
   "id": "718b3582",
   "metadata": {},
   "outputs": [
    {
     "name": "stdout",
     "output_type": "stream",
     "text": [
      "confusion_matrix  [[16375  1358]\n",
      " [  194    69]]\n",
      "classification_report               precision    recall  f1-score   support\n",
      "\n",
      "         0.0       0.99      0.92      0.95     17733\n",
      "         1.0       0.05      0.26      0.08       263\n",
      "\n",
      "    accuracy                           0.91     17996\n",
      "   macro avg       0.52      0.59      0.52     17996\n",
      "weighted avg       0.97      0.91      0.94     17996\n",
      "\n",
      "Accuracy per class [92.34196132 26.23574144]\n"
     ]
    }
   ],
   "source": [
    "\n",
    "model.fit(X_res, y_res)\n",
    "xgb_grid_predict = model.predict(X_test.fillna(0))\n",
    "confusion_mat = confusion_matrix(y_test,xgb_grid_predict)\n",
    "print(\"confusion_matrix \", confusion_mat)\n",
    "class_report = classification_report(y_test,xgb_grid_predict)\n",
    "print(\"classification_report\", class_report)\n",
    "print(\"Accuracy per class\", 100 * confusion_mat.diagonal()/confusion_mat.sum(axis=1))"
   ]
  },
  {
   "cell_type": "code",
   "execution_count": null,
   "id": "cdec6e71",
   "metadata": {},
   "outputs": [],
   "source": []
  }
 ],
 "metadata": {
  "kernelspec": {
   "display_name": "Python 3 (ipykernel)",
   "language": "python",
   "name": "python3"
  },
  "language_info": {
   "codemirror_mode": {
    "name": "ipython",
    "version": 3
   },
   "file_extension": ".py",
   "mimetype": "text/x-python",
   "name": "python",
   "nbconvert_exporter": "python",
   "pygments_lexer": "ipython3",
   "version": "3.9.7"
  }
 },
 "nbformat": 4,
 "nbformat_minor": 5
}
