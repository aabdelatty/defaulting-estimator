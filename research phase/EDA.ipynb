{
 "cells": [
  {
   "cell_type": "code",
   "execution_count": 1,
   "id": "906e43bb",
   "metadata": {},
   "outputs": [],
   "source": [
    "import pandas as pd\n",
    "import  matplotlib"
   ]
  },
  {
   "cell_type": "markdown",
   "id": "c32cd853",
   "metadata": {},
   "source": [
    "# Common  functions"
   ]
  },
  {
   "cell_type": "code",
   "execution_count": 2,
   "id": "3bb5b685",
   "metadata": {},
   "outputs": [],
   "source": [
    "def plot_default_per_colm_value(df, colmn_name):\n",
    "    \"\"\"\n",
    "        plot the defaulting distribution per column categories\n",
    "        Input:\n",
    "            df: DataFrame of interest\n",
    "            colmn_name: the column we are interested to visualize against default\n",
    "        Output:\n",
    "            defaulting distribution per column categories\n",
    "    \"\"\"\n",
    "    defaulting_per_colmn = df.groupby('default')[colmn_name].value_counts().unstack(0)\n",
    "    \n",
    "    plot = defaulting_per_colmn.plot(kind=\"bar\", figsize=(15, 5))\n",
    "    plot.set_title(\"Distribution of defaulting per \" + colmn_name)\n",
    "    \n",
    "    #print(defaulting_per_colmn)\n",
    "    \n",
    "    defaulting_per_colmn = defaulting_per_colmn.div(defaulting_per_colmn.sum(axis=1), axis=0)\n",
    "    \n",
    "    return defaulting_per_colmn"
   ]
  },
  {
   "cell_type": "markdown",
   "id": "a53c64bc",
   "metadata": {},
   "source": [
    "# Load the Data"
   ]
  },
  {
   "cell_type": "code",
   "execution_count": 3,
   "id": "6bcc25ce",
   "metadata": {},
   "outputs": [],
   "source": [
    "data = pd.read_csv(\"../data/dataset.csv\", sep=\";\")"
   ]
  },
  {
   "cell_type": "code",
   "execution_count": 4,
   "id": "6911aa35",
   "metadata": {},
   "outputs": [
    {
     "name": "stdout",
     "output_type": "stream",
     "text": [
      "<class 'pandas.core.frame.DataFrame'>\n",
      "RangeIndex: 99976 entries, 0 to 99975\n",
      "Data columns (total 43 columns):\n",
      " #   Column                               Non-Null Count  Dtype  \n",
      "---  ------                               --------------  -----  \n",
      " 0   uuid                                 99976 non-null  object \n",
      " 1   default                              89976 non-null  float64\n",
      " 2   account_amount_added_12_24m          99976 non-null  int64  \n",
      " 3   account_days_in_dc_12_24m            88140 non-null  float64\n",
      " 4   account_days_in_rem_12_24m           88140 non-null  float64\n",
      " 5   account_days_in_term_12_24m          88140 non-null  float64\n",
      " 6   account_incoming_debt_vs_paid_0_24m  40661 non-null  float64\n",
      " 7   account_status                       45603 non-null  float64\n",
      " 8   account_worst_status_0_3m            45603 non-null  float64\n",
      " 9   account_worst_status_12_24m          33215 non-null  float64\n",
      " 10  account_worst_status_3_6m            42274 non-null  float64\n",
      " 11  account_worst_status_6_12m           39626 non-null  float64\n",
      " 12  age                                  99976 non-null  int64  \n",
      " 13  avg_payment_span_0_12m               76140 non-null  float64\n",
      " 14  avg_payment_span_0_3m                50671 non-null  float64\n",
      " 15  merchant_category                    99976 non-null  object \n",
      " 16  merchant_group                       99976 non-null  object \n",
      " 17  has_paid                             99976 non-null  bool   \n",
      " 18  max_paid_inv_0_12m                   99976 non-null  float64\n",
      " 19  max_paid_inv_0_24m                   99976 non-null  float64\n",
      " 20  name_in_email                        99976 non-null  object \n",
      " 21  num_active_div_by_paid_inv_0_12m     77037 non-null  float64\n",
      " 22  num_active_inv                       99976 non-null  int64  \n",
      " 23  num_arch_dc_0_12m                    99976 non-null  int64  \n",
      " 24  num_arch_dc_12_24m                   99976 non-null  int64  \n",
      " 25  num_arch_ok_0_12m                    99976 non-null  int64  \n",
      " 26  num_arch_ok_12_24m                   99976 non-null  int64  \n",
      " 27  num_arch_rem_0_12m                   99976 non-null  int64  \n",
      " 28  num_arch_written_off_0_12m           81898 non-null  float64\n",
      " 29  num_arch_written_off_12_24m          81898 non-null  float64\n",
      " 30  num_unpaid_bills                     99976 non-null  int64  \n",
      " 31  status_last_archived_0_24m           99976 non-null  int64  \n",
      " 32  status_2nd_last_archived_0_24m       99976 non-null  int64  \n",
      " 33  status_3rd_last_archived_0_24m       99976 non-null  int64  \n",
      " 34  status_max_archived_0_6_months       99976 non-null  int64  \n",
      " 35  status_max_archived_0_12_months      99976 non-null  int64  \n",
      " 36  status_max_archived_0_24_months      99976 non-null  int64  \n",
      " 37  recovery_debt                        99976 non-null  int64  \n",
      " 38  sum_capital_paid_account_0_12m       99976 non-null  int64  \n",
      " 39  sum_capital_paid_account_12_24m      99976 non-null  int64  \n",
      " 40  sum_paid_inv_0_12m                   99976 non-null  int64  \n",
      " 41  time_hours                           99976 non-null  float64\n",
      " 42  worst_status_active_inv              30461 non-null  float64\n",
      "dtypes: bool(1), float64(19), int64(19), object(4)\n",
      "memory usage: 32.1+ MB\n"
     ]
    }
   ],
   "source": [
    "data.info()"
   ]
  },
  {
   "cell_type": "markdown",
   "id": "7fc6acdc",
   "metadata": {},
   "source": [
    "## Separate the data into training and testing: \n",
    " - Testing data is the portion of data having default as NA"
   ]
  },
  {
   "cell_type": "code",
   "execution_count": 5,
   "id": "b0ca0d1f",
   "metadata": {},
   "outputs": [],
   "source": [
    "train_data = data[data['default'].notnull()]\n",
    "train_data.to_csv('../data/training_dataset.csv', index=False)"
   ]
  },
  {
   "cell_type": "code",
   "execution_count": 6,
   "id": "2e9884b7",
   "metadata": {},
   "outputs": [
    {
     "name": "stdout",
     "output_type": "stream",
     "text": [
      "<class 'pandas.core.frame.DataFrame'>\n",
      "Int64Index: 89976 entries, 0 to 89975\n",
      "Data columns (total 43 columns):\n",
      " #   Column                               Non-Null Count  Dtype  \n",
      "---  ------                               --------------  -----  \n",
      " 0   uuid                                 89976 non-null  object \n",
      " 1   default                              89976 non-null  float64\n",
      " 2   account_amount_added_12_24m          89976 non-null  int64  \n",
      " 3   account_days_in_dc_12_24m            79293 non-null  float64\n",
      " 4   account_days_in_rem_12_24m           79293 non-null  float64\n",
      " 5   account_days_in_term_12_24m          79293 non-null  float64\n",
      " 6   account_incoming_debt_vs_paid_0_24m  36619 non-null  float64\n",
      " 7   account_status                       41042 non-null  float64\n",
      " 8   account_worst_status_0_3m            41042 non-null  float64\n",
      " 9   account_worst_status_12_24m          29921 non-null  float64\n",
      " 10  account_worst_status_3_6m            38038 non-null  float64\n",
      " 11  account_worst_status_6_12m           35663 non-null  float64\n",
      " 12  age                                  89976 non-null  int64  \n",
      " 13  avg_payment_span_0_12m               68508 non-null  float64\n",
      " 14  avg_payment_span_0_3m                45594 non-null  float64\n",
      " 15  merchant_category                    89976 non-null  object \n",
      " 16  merchant_group                       89976 non-null  object \n",
      " 17  has_paid                             89976 non-null  bool   \n",
      " 18  max_paid_inv_0_12m                   89976 non-null  float64\n",
      " 19  max_paid_inv_0_24m                   89976 non-null  float64\n",
      " 20  name_in_email                        89976 non-null  object \n",
      " 21  num_active_div_by_paid_inv_0_12m     69318 non-null  float64\n",
      " 22  num_active_inv                       89976 non-null  int64  \n",
      " 23  num_arch_dc_0_12m                    89976 non-null  int64  \n",
      " 24  num_arch_dc_12_24m                   89976 non-null  int64  \n",
      " 25  num_arch_ok_0_12m                    89976 non-null  int64  \n",
      " 26  num_arch_ok_12_24m                   89976 non-null  int64  \n",
      " 27  num_arch_rem_0_12m                   89976 non-null  int64  \n",
      " 28  num_arch_written_off_0_12m           73671 non-null  float64\n",
      " 29  num_arch_written_off_12_24m          73671 non-null  float64\n",
      " 30  num_unpaid_bills                     89976 non-null  int64  \n",
      " 31  status_last_archived_0_24m           89976 non-null  int64  \n",
      " 32  status_2nd_last_archived_0_24m       89976 non-null  int64  \n",
      " 33  status_3rd_last_archived_0_24m       89976 non-null  int64  \n",
      " 34  status_max_archived_0_6_months       89976 non-null  int64  \n",
      " 35  status_max_archived_0_12_months      89976 non-null  int64  \n",
      " 36  status_max_archived_0_24_months      89976 non-null  int64  \n",
      " 37  recovery_debt                        89976 non-null  int64  \n",
      " 38  sum_capital_paid_account_0_12m       89976 non-null  int64  \n",
      " 39  sum_capital_paid_account_12_24m      89976 non-null  int64  \n",
      " 40  sum_paid_inv_0_12m                   89976 non-null  int64  \n",
      " 41  time_hours                           89976 non-null  float64\n",
      " 42  worst_status_active_inv              27436 non-null  float64\n",
      "dtypes: bool(1), float64(19), int64(19), object(4)\n",
      "memory usage: 29.6+ MB\n"
     ]
    }
   ],
   "source": [
    "train_data.info()"
   ]
  },
  {
   "cell_type": "code",
   "execution_count": 8,
   "id": "95e5cfcf",
   "metadata": {},
   "outputs": [],
   "source": [
    "test_data = data[data['default'].isnull()]\n",
    "test_data.to_csv('../data/testing_dataset.csv', index=False)"
   ]
  },
  {
   "cell_type": "markdown",
   "id": "68b35970",
   "metadata": {},
   "source": [
    "# EDA\n",
    " 1. Visualize the label (default) and check for imbalancing\n",
    " 2. Get better understanding on how user information and taste might lead to defaulting\n",
    " 3. Understand attributes describing loan status\n",
    " 4. Do in depth analysis of the account's statues\n",
    " 5. Test how the increase of paid/added amounts might reduce the probability of defaulting\n",
    " 6. Tap into who active invoices and dept history might correlate with defaulting\n",
    " 7. Analyze the Written Off loans\n",
    " 8. Determine if other attributes like time_hours is useful for our modeling"
   ]
  },
  {
   "cell_type": "markdown",
   "id": "41fb5b19",
   "metadata": {},
   "source": [
    "## 1. Visualize the label (default) and check for imbalancing\n",
    " - Data is very imbalanced: we might need to do over or under sampling\n",
    " - Defaulting occured only in 1.4% of the data"
   ]
  },
  {
   "cell_type": "code",
   "execution_count": null,
   "id": "c59e0439",
   "metadata": {},
   "outputs": [],
   "source": [
    "train_data['default'].value_counts().plot(kind='pie')"
   ]
  },
  {
   "cell_type": "code",
   "execution_count": null,
   "id": "e84adc1f",
   "metadata": {},
   "outputs": [],
   "source": [
    "default_value_counts = train_data['default'].value_counts()\n",
    "100 * default_value_counts[1.0]/ sum(default_value_counts)"
   ]
  },
  {
   "cell_type": "markdown",
   "id": "a1e80a5e",
   "metadata": {},
   "source": [
    "## 2. Get better understanding on how user information and taste might lead to defaulting\n",
    " - All four attributes of interest (age, name_in_email, merchant_group, and merchant_category) have no null values"
   ]
  },
  {
   "cell_type": "code",
   "execution_count": null,
   "id": "a8baf140",
   "metadata": {},
   "outputs": [],
   "source": [
    "min_age = train_data['age'].min()\n",
    "max_age = train_data['age'].max()\n",
    "train_data.groupby('default')['age'].hist(bins=[min_age, 25, 40, 60, max_age])"
   ]
  },
  {
   "cell_type": "code",
   "execution_count": null,
   "id": "83c6183a",
   "metadata": {},
   "outputs": [],
   "source": [
    "plot_default_per_colm_value(train_data, 'name_in_email')"
   ]
  },
  {
   "cell_type": "code",
   "execution_count": null,
   "id": "c60356bf",
   "metadata": {},
   "outputs": [],
   "source": [
    "plot_default_per_colm_value(train_data, 'merchant_group')"
   ]
  },
  {
   "cell_type": "code",
   "execution_count": null,
   "id": "9d9310ce",
   "metadata": {},
   "outputs": [],
   "source": [
    "default_per_permerchant_category = plot_default_per_colm_value(train_data, 'merchant_category')"
   ]
  },
  {
   "cell_type": "code",
   "execution_count": null,
   "id": "b6a1c4f3",
   "metadata": {},
   "outputs": [],
   "source": [
    "default_per_permerchant_category"
   ]
  },
  {
   "cell_type": "markdown",
   "id": "65c521f9",
   "metadata": {},
   "source": [
    "### Conclusion\n",
    "- For age:\n",
    "    - The data was splitted based on generations (Generation Z, Millennials, Generation X, and older generations)\n",
    "    - As expected millennials are more likely to be using the service\n",
    "    - After visualizing the data, the hypothesis that younger generation will high tendency for defaulting than older generation is rejected\n",
    "- For name_in_email:\n",
    "     - No correlation between the name_in_email and defaulting were detected\n",
    "- For merchant_group:\n",
    "     - Each group have defaulting probability close to the general defaulting distribution\n",
    "- For merchant_category:\n",
    "     - Some categories have very high probability of defaulting ( compared to the general defaulting distribution)(e.g. Plants & Flowers, Sex toys, Tobacco)\n",
    "     - Other categories like Bags & Wallets, Cleaning & Sanitary, and Safety products have norecords of defaulting"
   ]
  },
  {
   "cell_type": "markdown",
   "id": "ed285b70",
   "metadata": {},
   "source": [
    "## 3. Understand attributes describing loan status\n",
    "-  remittance (account_days_in_rem_12_24m, num_arch_rem_0_12m)\n",
    "-  direct credit (account_days_in_dc_12_24m, num_arch_dc_0_12m, num_arch_dc_12_24m)\n",
    "-  term loan (account_days_in_term_12_24m)\n",
    "-  ok transactions ( num_arch_ok_0_12m, num_arch_ok_12_24m)"
   ]
  },
  {
   "cell_type": "code",
   "execution_count": null,
   "id": "1f251b10",
   "metadata": {},
   "outputs": [],
   "source": [
    "days_colms = ['account_days_in_dc_12_24m', 'account_days_in_rem_12_24m', 'account_days_in_term_12_24m', 'num_arch_dc_0_12m', 'num_arch_dc_12_24m', 'num_arch_ok_0_12m', 'num_arch_ok_12_24m', 'num_arch_rem_0_12m']\n",
    "train_data.boxplot(column=days_colms, figsize=(20, 5))  "
   ]
  },
  {
   "cell_type": "code",
   "execution_count": null,
   "id": "23853da9",
   "metadata": {},
   "outputs": [],
   "source": [
    "train_data_days = train_data[['default'] + days_colms].copy()"
   ]
  },
  {
   "cell_type": "code",
   "execution_count": null,
   "id": "c5db262e",
   "metadata": {},
   "outputs": [],
   "source": [
    "train_data_days.describe(percentiles=[0.25, .5, .75, .85, .9, .95])"
   ]
  },
  {
   "cell_type": "code",
   "execution_count": null,
   "id": "10e74537",
   "metadata": {},
   "outputs": [],
   "source": [
    "for colmn in days_colms:\n",
    "    train_data_days[colmn] = train_data_days[colmn].apply(lambda x: 0 if x==0  else(1 if x > 0 else \"unavailable\"))\n",
    "    plot_default_per_colm_value(train_data_days, colmn)"
   ]
  },
  {
   "cell_type": "markdown",
   "id": "76289127",
   "metadata": {},
   "source": [
    "### Conclusion \n",
    "- All eight attributes are mostly always Zero\n",
    "- Regardless of the value assigned to any of the attributes the defaulting probability almost the same\n",
    "- In data engineering phase, all null values will be replaced by Zero"
   ]
  },
  {
   "cell_type": "markdown",
   "id": "3618c3f3",
   "metadata": {},
   "source": [
    "## 4. Do in depth analysis of the account's statues, attributes of interest are\n",
    " - account_status \n",
    " - account_worst_status_0_3m\n",
    " - account_worst_status_12_24m\n",
    " - account_worst_status_3_6m\n",
    " - account_worst_status_6_12m\n",
    " - worst_status_active_inv\n",
    " - status_last_archived_0_24m\n",
    " - status_2nd_last_archived_0_24m\n",
    " - status_3rd_last_archived_0_24m\n",
    " - status_max_archived_0_6_months\n",
    " - status_max_archived_0_12_months\n",
    " - status_max_archived_0_24_months"
   ]
  },
  {
   "cell_type": "code",
   "execution_count": null,
   "id": "83d52680",
   "metadata": {},
   "outputs": [],
   "source": [
    "status_colms = ['account_status', 'account_worst_status_0_3m', 'account_worst_status_12_24m', 'account_worst_status_3_6m', 'account_worst_status_6_12m', 'worst_status_active_inv', 'status_last_archived_0_24m', 'status_2nd_last_archived_0_24m', 'status_3rd_last_archived_0_24m', 'status_max_archived_0_6_months', 'status_max_archived_0_12_months', 'status_max_archived_0_24_months']\n",
    "train_data.boxplot(column=status_colms, figsize=(15, 5),rot=90)  "
   ]
  },
  {
   "cell_type": "code",
   "execution_count": null,
   "id": "3ffde57c",
   "metadata": {},
   "outputs": [],
   "source": [
    "train_data_status = train_data[['default'] + status_colms].copy()\n",
    "vc_nulls = train_data[status_colms].apply(lambda x: x.isnull().value_counts()).T[True]\n",
    "vc_nulls"
   ]
  },
  {
   "cell_type": "code",
   "execution_count": null,
   "id": "eba6a04b",
   "metadata": {},
   "outputs": [],
   "source": [
    "train_data_status = train_data[['default'] + status_colms].copy()\n",
    "train_data_status['max'] = train_data_status[status_colms].max(axis=1)\n",
    "for colmn in (status_colms + ['max']):\n",
    "    train_data_status[colmn] = train_data_status[colmn].apply(lambda x: x if x >= 0  else \"unavailable\")\n",
    "    default_per_colname = plot_default_per_colm_value(train_data_status, colmn)\n",
    "    #print(default_per_colname)"
   ]
  },
  {
   "cell_type": "markdown",
   "id": "87116cc1",
   "metadata": {},
   "source": [
    "### Conclusion \n",
    "- All twelve attributes are categorical \n",
    "- Archived status:\n",
    "    - can take one of the following values {0, 1, 2, 3, 4, 5}; zero means good status and Five means very bad status\n",
    "    - Have no null values\n",
    "- Active status:\n",
    "    - From my understanding, account_status is kind of a weighted average of the prvious account status\n",
    "    - can take one of the following values {1, 2, 3, 4}; no Zero  nor Five!\n",
    "    - For each status more than 50% of the values are missing\n",
    "- Regardless of the value assigned to any of the attributes the defaulting probability almost the same\n",
    "- In data engineering phase:\n",
    "    - new attribute will be created capturing the maximum statues for active loans.\n",
    "    - Test if using only three attributes, namely (account_status, status_max_archived_0_24_months, maximum statues for active loans) will give good results as all other attributes are kind of correlated to those three attributes\n",
    "    - Null values will not be filled nor the record will be deleted, rather I will use algorithms that support missing values "
   ]
  },
  {
   "cell_type": "markdown",
   "id": "678d3455",
   "metadata": {},
   "source": [
    "## 5. Test how the increase of paid/added amounts might reduce the probability of defaulting\n",
    "- account_amount_added_12_24m\n",
    "- max_paid_inv_0_12m\n",
    "- max_paid_inv_0_24m\n",
    "- sum_capital_paid_account_0_12m\n",
    "- sum_capital_paid_account_12_24m"
   ]
  },
  {
   "cell_type": "code",
   "execution_count": null,
   "id": "6fedfcc1",
   "metadata": {},
   "outputs": [],
   "source": [
    "payment_colms = ['account_amount_added_12_24m', 'max_paid_inv_0_12m', 'max_paid_inv_0_24m', 'sum_capital_paid_account_0_12m', 'sum_capital_paid_account_12_24m']\n",
    "train_data.boxplot(column=payment_colms, figsize=(20, 5))  "
   ]
  },
  {
   "cell_type": "code",
   "execution_count": null,
   "id": "073131da",
   "metadata": {},
   "outputs": [],
   "source": [
    "for colmn in payment_colms:\n",
    "    train_data.plot.scatter(x='default', y=colmn, c='DarkBlue')"
   ]
  },
  {
   "cell_type": "code",
   "execution_count": null,
   "id": "fec889d2",
   "metadata": {},
   "outputs": [],
   "source": [
    "# calc sum_capital_paid_account_0_24m\n",
    "temp_df = train_data[['default'] + payment_colms]\n",
    "temp_df['sum_capital_paid_account_0_24m'] = temp_df['sum_capital_paid_account_0_12m'] + temp_df['sum_capital_paid_account_12_24m']\n",
    "temp_df.plot.scatter(x='default', y='sum_capital_paid_account_0_24m', c='DarkBlue')"
   ]
  },
  {
   "cell_type": "markdown",
   "id": "12aad4d1",
   "metadata": {},
   "source": [
    "### Conclusion \n",
    "- Increase in ammounts added or paid lower the probability of defaulting\n",
    "- In modeling phase, only max_paid_inv_0_24m, account_amount_added_12_24m, and sum_capital_paid_account_0_24m will be used"
   ]
  },
  {
   "cell_type": "markdown",
   "id": "d8ed32f7",
   "metadata": {},
   "source": [
    "## 6. Tap into who active invoices and dept history might correlate with defaulting\n",
    " - account_incoming_debt_vs_paid_0_24m\n",
    " - num_active_div_by_paid_inv_0_12m\n",
    " - num_active_inv\n",
    " - num_unpaid_bills\n",
    " - recovery_debt"
   ]
  },
  {
   "cell_type": "code",
   "execution_count": null,
   "id": "0181d4c1",
   "metadata": {},
   "outputs": [],
   "source": [
    "dept_colms = ['account_incoming_debt_vs_paid_0_24m', 'num_active_div_by_paid_inv_0_12m', 'num_active_inv', 'num_unpaid_bills', 'recovery_debt']\n",
    "\n",
    "train_data.boxplot(column=dept_colms, figsize=(20, 5))  "
   ]
  },
  {
   "cell_type": "code",
   "execution_count": null,
   "id": "3432508c",
   "metadata": {},
   "outputs": [],
   "source": [
    "dept_train_data = train_data[['default'] + dept_colms]\n",
    "dept_train_data['num_of_paid_inv_0_12m'] = dept_train_data.apply(lambda row: row['num_active_inv'] / row['num_active_div_by_paid_inv_0_12m'], axis=1)\n",
    "dept_colms += ['num_of_paid_inv_0_12m']\n",
    "dept_train_data.describe(percentiles=[0.25, .5, .75, .85, .9, .95])"
   ]
  },
  {
   "cell_type": "code",
   "execution_count": null,
   "id": "08986a85",
   "metadata": {},
   "outputs": [],
   "source": [
    "dept_train_data = dept_train_data.fillna(0)\n",
    "#dept_train_data['num_of_paid_inv_0_12m'] = dept_train_data['num_of_paid_inv_0_12m'].fillna(0)\n",
    "for colmn in dept_colms:\n",
    "    dept_train_data.plot.scatter(x='default', y=colmn, c='DarkBlue')"
   ]
  },
  {
   "cell_type": "markdown",
   "id": "3c181d3b",
   "metadata": {},
   "source": [
    "### Conclusion \n",
    "- 63% of account_incoming_debt_vs_paid_0_24m are missing so it will be deleted\n",
    "- more than 95% of the data in recovery_debt is Zero and all non zero rows, no much information is obtained (will not be used in modelling)\n",
    "- Both num_active_inv & num_unpaid_bills kind of having same graph with different scaling. Going forward only num_unpaid_bills will be kept\n",
    "- In data engineering phase, the  num_of_paid_inv_0_12m will be calculated\n",
    "- In modeling phase, only num_active_div_by_paid_inv_0_12m, num_unpaid_bills, and num_of_paid_inv_0_12m will be used"
   ]
  },
  {
   "cell_type": "markdown",
   "id": "803afadf",
   "metadata": {},
   "source": [
    "## 7. Analyze the Written Off loans\n",
    " - num_arch_written_off_0_12m\n",
    " - num_arch_written_off_12_24m"
   ]
  },
  {
   "cell_type": "code",
   "execution_count": null,
   "id": "6fd8dd33",
   "metadata": {},
   "outputs": [],
   "source": [
    "arch_colms = [ 'num_arch_written_off_0_12m', 'num_arch_written_off_12_24m']\n",
    "train_data.boxplot(column=arch_colms, figsize=(15, 5))  "
   ]
  },
  {
   "cell_type": "code",
   "execution_count": null,
   "id": "c3ceb5cd",
   "metadata": {},
   "outputs": [],
   "source": [
    "train_data_arch = train_data[['default'] + arch_colms].copy()\n",
    "vc_nulls = train_data[arch_colms].apply(lambda x: x.isnull().value_counts()).T[True]\n",
    "vc_nulls"
   ]
  },
  {
   "cell_type": "code",
   "execution_count": null,
   "id": "af3a3d86",
   "metadata": {},
   "outputs": [],
   "source": [
    "train_data_arch = train_data[['default'] + arch_colms].copy()\n",
    "for colmn in arch_colms:\n",
    "    default_per_colname = plot_default_per_colm_value(train_data_arch, colmn)\n",
    "    print(default_per_colname)"
   ]
  },
  {
   "cell_type": "markdown",
   "id": "2fb52c40",
   "metadata": {},
   "source": [
    "### Conclusion \n",
    "- Both attributes are mostly always Zero\n",
    "- Regardless of the value assigned to any of the attributes the defaulting probability almost the same\n",
    "- In data engineering phase, both columns will be removed"
   ]
  },
  {
   "cell_type": "markdown",
   "id": "679eed2f",
   "metadata": {},
   "source": [
    "## 8. Determine if other attributes like age is useful for our modeling\n",
    "- avg_payment_span_0_12m\n",
    "- avg_payment_span_0_3m\n",
    "- time_hours"
   ]
  },
  {
   "cell_type": "code",
   "execution_count": null,
   "id": "78ad16a0",
   "metadata": {},
   "outputs": [],
   "source": [
    "train_data.boxplot(column=['time_hours','avg_payment_span_0_12m','avg_payment_span_0_3m'], figsize=(20, 5))  "
   ]
  },
  {
   "cell_type": "code",
   "execution_count": null,
   "id": "8fc11c15",
   "metadata": {},
   "outputs": [],
   "source": [
    "train_data[['time_hours','avg_payment_span_0_12m','avg_payment_span_0_3m']].describe(percentiles=[0.25, .5, .75, .85, .9, .95])"
   ]
  },
  {
   "cell_type": "code",
   "execution_count": null,
   "id": "0ec991a8",
   "metadata": {},
   "outputs": [],
   "source": [
    "train_data.groupby('default')['time_hours'].hist()"
   ]
  },
  {
   "cell_type": "code",
   "execution_count": null,
   "id": "f1f4955a",
   "metadata": {},
   "outputs": [],
   "source": [
    "train_data.groupby('default')['has_paid'].value_counts()"
   ]
  },
  {
   "cell_type": "markdown",
   "id": "d87b1ff6",
   "metadata": {},
   "source": [
    "### Conclusion \n",
    "- Both avg_payment_span_0_12m & avg_payment_span_0_3m are mostly missing (Will be deleted)\n",
    "- Given the short span of time_hours, it is hard to infer what it represents exactly"
   ]
  },
  {
   "cell_type": "markdown",
   "id": "a66e51c5",
   "metadata": {},
   "source": [
    "# Final Conclusion\n",
    "- **Train-Test split:**\n",
    " - 10% of the data had missing 'default' values, and will be used as the testing data\n",
    " - The rest 90% of the data will be used for modelling (training data) \n",
    " \n",
    " <br/>\n",
    " <br/>\n",
    " \n",
    "- **Label distribution is skewed:** only 1.4% of the training data is labled as default\n",
    "\n",
    "<br/>\n",
    " <br/>\n",
    "\n",
    "- **New features that will be added:**\n",
    "  - sum_capital_paid_account_0_24m: sum of both sum_capital_paid_account_0_12m and sum_capital_paid_account_12_24m\n",
    "  - num_of_paid_inv_0_12m: calculated as num_active_inv /  num_active_div_by_paid_inv_0_12m\n",
    "  - status_max_active_0_24: the maximum statues for active loans (account_worst_status_0_3m, account_worst_status_12_24m, account_worst_status_3_6m, account_worst_status_6_12m)\n",
    "  \n",
    "  <br/>\n",
    " <br/>\n",
    "  \n",
    "  \n",
    "- **Attributes which will not be used for modeling:**\n",
    " - age: the hypothesis that younger generation will high tendency for defaulting than older generation is rejected, as it turns out all gens have almost same probability of defaulting\n",
    " - name_in_email: No correlation between the name_in_email and defaulting were detected\n",
    " - For merchant_group: Each group have defaulting probability close to the general defaulting distribution\n",
    " - time_hours: it is hard to infer what it represents exactly, and dosent seem to have correlation with defaulting\n",
    " - Attributes with more than 50% of missing values:\n",
    "   1. avg_payment_span_0_12m (76%)\n",
    "   2. avg_payment_span_0_3m (51%)\n",
    "   3. account_incoming_debt_vs_paid_0_24m (63%)\n",
    " - Attributes which more than 97% or so of the times have the same value:\n",
    "   1. num_arch_written_off_0_12m (Zero)\n",
    "   2. num_arch_written_off_12_24m (Zero)\n",
    "   3. recovery_debt (Zero)\n",
    "   4. account_days_in_dc_12_24m (Zero)\n",
    "   5. account_days_in_term_12_24m (Zero)\n",
    "   6. num_arch_dc_0_12m (Zero)\n",
    "   7. num_arch_dc_12_24m (Zero)\n",
    " - Attributes having high correlation with others:\n",
    "   1. num_active_inv: num_active_inv & num_unpaid_bills kind of having same graph with different scaling.\n",
    "   2. max_paid_inv_0_12m: correlated to max_paid_inv_0_24m\n",
    "   3. sum_capital_paid_account_0_12m: correlated with sum_capital_paid_account_0_24m\n",
    "   4. sum_capital_paid_account_12_24m: correlated with sum_capital_paid_account_0_24m\n",
    "   5. account_worst_status_0_3m: correlated with status_max_active_0_24\n",
    "   6. account_worst_status_12_24m: correlated with status_max_active_0_24\n",
    "   7. account_worst_status_3_6m: correlated with status_max_active_0_24\n",
    "   8. account_worst_status_6_12m: correlated with status_max_active_0_24"
   ]
  },
  {
   "cell_type": "code",
   "execution_count": null,
   "id": "1aff1174",
   "metadata": {},
   "outputs": [],
   "source": []
  }
 ],
 "metadata": {
  "kernelspec": {
   "display_name": "Python 3 (ipykernel)",
   "language": "python",
   "name": "python3"
  },
  "language_info": {
   "codemirror_mode": {
    "name": "ipython",
    "version": 3
   },
   "file_extension": ".py",
   "mimetype": "text/x-python",
   "name": "python",
   "nbconvert_exporter": "python",
   "pygments_lexer": "ipython3",
   "version": "3.9.7"
  }
 },
 "nbformat": 4,
 "nbformat_minor": 5
}
